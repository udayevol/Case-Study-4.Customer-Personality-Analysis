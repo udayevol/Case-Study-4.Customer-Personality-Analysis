{
 "cells": [
  {
   "cell_type": "markdown",
   "id": "bb26b0e7",
   "metadata": {
    "papermill": {
     "duration": 0.007722,
     "end_time": "2024-06-04T19:00:47.679646",
     "exception": false,
     "start_time": "2024-06-04T19:00:47.671924",
     "status": "completed"
    },
    "tags": []
   },
   "source": [
    "**Importing Necessary libraries**"
   ]
  },
  {
   "cell_type": "code",
   "execution_count": 1,
   "id": "f2371d09",
   "metadata": {
    "execution": {
     "iopub.execute_input": "2024-06-04T19:00:47.697085Z",
     "iopub.status.busy": "2024-06-04T19:00:47.696022Z",
     "iopub.status.idle": "2024-06-04T19:00:48.579775Z",
     "shell.execute_reply": "2024-06-04T19:00:48.578555Z"
    },
    "papermill": {
     "duration": 0.89562,
     "end_time": "2024-06-04T19:00:48.582798",
     "exception": false,
     "start_time": "2024-06-04T19:00:47.687178",
     "status": "completed"
    },
    "tags": []
   },
   "outputs": [],
   "source": [
    "import pandas as pd\n",
    "import numpy as np\n",
    "import matplotlib.pyplot as plt"
   ]
  },
  {
   "cell_type": "markdown",
   "id": "ce03b764",
   "metadata": {
    "papermill": {
     "duration": 0.007194,
     "end_time": "2024-06-04T19:00:48.597618",
     "exception": false,
     "start_time": "2024-06-04T19:00:48.590424",
     "status": "completed"
    },
    "tags": []
   },
   "source": [
    "**Reading the data which is in csv form**"
   ]
  },
  {
   "cell_type": "code",
   "execution_count": 2,
   "id": "f2f0c839",
   "metadata": {
    "execution": {
     "iopub.execute_input": "2024-06-04T19:00:48.614843Z",
     "iopub.status.busy": "2024-06-04T19:00:48.614317Z",
     "iopub.status.idle": "2024-06-04T19:00:48.681533Z",
     "shell.execute_reply": "2024-06-04T19:00:48.680270Z"
    },
    "papermill": {
     "duration": 0.078792,
     "end_time": "2024-06-04T19:00:48.683883",
     "exception": false,
     "start_time": "2024-06-04T19:00:48.605091",
     "status": "completed"
    },
    "tags": []
   },
   "outputs": [
    {
     "data": {
      "text/html": [
       "<div>\n",
       "<style scoped>\n",
       "    .dataframe tbody tr th:only-of-type {\n",
       "        vertical-align: middle;\n",
       "    }\n",
       "\n",
       "    .dataframe tbody tr th {\n",
       "        vertical-align: top;\n",
       "    }\n",
       "\n",
       "    .dataframe thead th {\n",
       "        text-align: right;\n",
       "    }\n",
       "</style>\n",
       "<table border=\"1\" class=\"dataframe\">\n",
       "  <thead>\n",
       "    <tr style=\"text-align: right;\">\n",
       "      <th></th>\n",
       "      <th>ID</th>\n",
       "      <th>Year_Birth</th>\n",
       "      <th>Education</th>\n",
       "      <th>Marital_Status</th>\n",
       "      <th>Income</th>\n",
       "      <th>Kidhome</th>\n",
       "      <th>Teenhome</th>\n",
       "      <th>Dt_Customer</th>\n",
       "      <th>Recency</th>\n",
       "      <th>MntWines</th>\n",
       "      <th>...</th>\n",
       "      <th>NumStorePurchases</th>\n",
       "      <th>NumWebVisitsMonth</th>\n",
       "      <th>AcceptedCmp3</th>\n",
       "      <th>AcceptedCmp4</th>\n",
       "      <th>AcceptedCmp5</th>\n",
       "      <th>AcceptedCmp1</th>\n",
       "      <th>AcceptedCmp2</th>\n",
       "      <th>Response</th>\n",
       "      <th>Complain</th>\n",
       "      <th>Country</th>\n",
       "    </tr>\n",
       "  </thead>\n",
       "  <tbody>\n",
       "    <tr>\n",
       "      <th>0</th>\n",
       "      <td>1826</td>\n",
       "      <td>1970</td>\n",
       "      <td>Graduation</td>\n",
       "      <td>Divorced</td>\n",
       "      <td>84835.0</td>\n",
       "      <td>0</td>\n",
       "      <td>0</td>\n",
       "      <td>2014-06-16</td>\n",
       "      <td>0</td>\n",
       "      <td>189</td>\n",
       "      <td>...</td>\n",
       "      <td>6</td>\n",
       "      <td>1</td>\n",
       "      <td>0</td>\n",
       "      <td>0</td>\n",
       "      <td>0</td>\n",
       "      <td>0</td>\n",
       "      <td>0</td>\n",
       "      <td>1</td>\n",
       "      <td>0</td>\n",
       "      <td>Spain</td>\n",
       "    </tr>\n",
       "    <tr>\n",
       "      <th>1</th>\n",
       "      <td>1</td>\n",
       "      <td>1961</td>\n",
       "      <td>Graduation</td>\n",
       "      <td>Single</td>\n",
       "      <td>57091.0</td>\n",
       "      <td>0</td>\n",
       "      <td>0</td>\n",
       "      <td>2014-06-15</td>\n",
       "      <td>0</td>\n",
       "      <td>464</td>\n",
       "      <td>...</td>\n",
       "      <td>7</td>\n",
       "      <td>5</td>\n",
       "      <td>0</td>\n",
       "      <td>0</td>\n",
       "      <td>0</td>\n",
       "      <td>0</td>\n",
       "      <td>1</td>\n",
       "      <td>1</td>\n",
       "      <td>0</td>\n",
       "      <td>Canada</td>\n",
       "    </tr>\n",
       "    <tr>\n",
       "      <th>2</th>\n",
       "      <td>10476</td>\n",
       "      <td>1958</td>\n",
       "      <td>Graduation</td>\n",
       "      <td>Married</td>\n",
       "      <td>67267.0</td>\n",
       "      <td>0</td>\n",
       "      <td>1</td>\n",
       "      <td>2014-05-13</td>\n",
       "      <td>0</td>\n",
       "      <td>134</td>\n",
       "      <td>...</td>\n",
       "      <td>5</td>\n",
       "      <td>2</td>\n",
       "      <td>0</td>\n",
       "      <td>0</td>\n",
       "      <td>0</td>\n",
       "      <td>0</td>\n",
       "      <td>0</td>\n",
       "      <td>0</td>\n",
       "      <td>0</td>\n",
       "      <td>USA</td>\n",
       "    </tr>\n",
       "    <tr>\n",
       "      <th>3</th>\n",
       "      <td>1386</td>\n",
       "      <td>1967</td>\n",
       "      <td>Graduation</td>\n",
       "      <td>Together</td>\n",
       "      <td>32474.0</td>\n",
       "      <td>1</td>\n",
       "      <td>1</td>\n",
       "      <td>2014-05-11</td>\n",
       "      <td>0</td>\n",
       "      <td>10</td>\n",
       "      <td>...</td>\n",
       "      <td>2</td>\n",
       "      <td>7</td>\n",
       "      <td>0</td>\n",
       "      <td>0</td>\n",
       "      <td>0</td>\n",
       "      <td>0</td>\n",
       "      <td>0</td>\n",
       "      <td>0</td>\n",
       "      <td>0</td>\n",
       "      <td>Australia</td>\n",
       "    </tr>\n",
       "    <tr>\n",
       "      <th>4</th>\n",
       "      <td>5371</td>\n",
       "      <td>1989</td>\n",
       "      <td>Graduation</td>\n",
       "      <td>Single</td>\n",
       "      <td>21474.0</td>\n",
       "      <td>1</td>\n",
       "      <td>0</td>\n",
       "      <td>2014-04-08</td>\n",
       "      <td>0</td>\n",
       "      <td>6</td>\n",
       "      <td>...</td>\n",
       "      <td>2</td>\n",
       "      <td>7</td>\n",
       "      <td>1</td>\n",
       "      <td>0</td>\n",
       "      <td>0</td>\n",
       "      <td>0</td>\n",
       "      <td>0</td>\n",
       "      <td>1</td>\n",
       "      <td>0</td>\n",
       "      <td>Spain</td>\n",
       "    </tr>\n",
       "  </tbody>\n",
       "</table>\n",
       "<p>5 rows × 28 columns</p>\n",
       "</div>"
      ],
      "text/plain": [
       "      ID  Year_Birth   Education Marital_Status   Income   Kidhome  Teenhome  \\\n",
       "0   1826        1970  Graduation       Divorced   84835.0        0         0   \n",
       "1      1        1961  Graduation         Single   57091.0        0         0   \n",
       "2  10476        1958  Graduation        Married   67267.0        0         1   \n",
       "3   1386        1967  Graduation       Together   32474.0        1         1   \n",
       "4   5371        1989  Graduation         Single   21474.0        1         0   \n",
       "\n",
       "  Dt_Customer  Recency  MntWines  ...  NumStorePurchases  NumWebVisitsMonth  \\\n",
       "0  2014-06-16        0       189  ...                  6                  1   \n",
       "1  2014-06-15        0       464  ...                  7                  5   \n",
       "2  2014-05-13        0       134  ...                  5                  2   \n",
       "3  2014-05-11        0        10  ...                  2                  7   \n",
       "4  2014-04-08        0         6  ...                  2                  7   \n",
       "\n",
       "   AcceptedCmp3  AcceptedCmp4  AcceptedCmp5  AcceptedCmp1  AcceptedCmp2  \\\n",
       "0             0             0             0             0             0   \n",
       "1             0             0             0             0             1   \n",
       "2             0             0             0             0             0   \n",
       "3             0             0             0             0             0   \n",
       "4             1             0             0             0             0   \n",
       "\n",
       "   Response  Complain    Country  \n",
       "0         1         0      Spain  \n",
       "1         1         0     Canada  \n",
       "2         0         0        USA  \n",
       "3         0         0  Australia  \n",
       "4         1         0      Spain  \n",
       "\n",
       "[5 rows x 28 columns]"
      ]
     },
     "execution_count": 2,
     "metadata": {},
     "output_type": "execute_result"
    }
   ],
   "source": [
    "# Reading the dataset\n",
    "df= pd.read_csv('/kaggle/input/marketing-dataset/marketing_data.csv') \n",
    "df.head(5) # Top 5 rows"
   ]
  },
  {
   "cell_type": "markdown",
   "id": "83e2c9c9",
   "metadata": {
    "papermill": {
     "duration": 0.00754,
     "end_time": "2024-06-04T19:00:48.699338",
     "exception": false,
     "start_time": "2024-06-04T19:00:48.691798",
     "status": "completed"
    },
    "tags": []
   },
   "source": [
    "**Exploring the dataset shapes and datatypes.**"
   ]
  },
  {
   "cell_type": "code",
   "execution_count": 3,
   "id": "bf19f20a",
   "metadata": {
    "execution": {
     "iopub.execute_input": "2024-06-04T19:00:48.716862Z",
     "iopub.status.busy": "2024-06-04T19:00:48.716460Z",
     "iopub.status.idle": "2024-06-04T19:00:48.739966Z",
     "shell.execute_reply": "2024-06-04T19:00:48.738299Z"
    },
    "papermill": {
     "duration": 0.035531,
     "end_time": "2024-06-04T19:00:48.742719",
     "exception": false,
     "start_time": "2024-06-04T19:00:48.707188",
     "status": "completed"
    },
    "tags": []
   },
   "outputs": [
    {
     "name": "stdout",
     "output_type": "stream",
     "text": [
      "<class 'pandas.core.frame.DataFrame'>\n",
      "RangeIndex: 2240 entries, 0 to 2239\n",
      "Data columns (total 28 columns):\n",
      " #   Column               Non-Null Count  Dtype  \n",
      "---  ------               --------------  -----  \n",
      " 0   ID                   2240 non-null   int64  \n",
      " 1   Year_Birth           2240 non-null   int64  \n",
      " 2   Education            2240 non-null   object \n",
      " 3   Marital_Status       2240 non-null   object \n",
      " 4    Income              2216 non-null   float64\n",
      " 5   Kidhome              2240 non-null   int64  \n",
      " 6   Teenhome             2240 non-null   int64  \n",
      " 7   Dt_Customer          2240 non-null   object \n",
      " 8   Recency              2240 non-null   int64  \n",
      " 9   MntWines             2240 non-null   int64  \n",
      " 10  MntFruits            2240 non-null   int64  \n",
      " 11  MntMeatProducts      2240 non-null   int64  \n",
      " 12  MntFishProducts      2240 non-null   int64  \n",
      " 13  MntSweetProducts     2240 non-null   int64  \n",
      " 14  MntGoldProds         2240 non-null   int64  \n",
      " 15  NumDealsPurchases    2240 non-null   int64  \n",
      " 16  NumWebPurchases      2240 non-null   int64  \n",
      " 17  NumCatalogPurchases  2240 non-null   int64  \n",
      " 18  NumStorePurchases    2240 non-null   int64  \n",
      " 19  NumWebVisitsMonth    2240 non-null   int64  \n",
      " 20  AcceptedCmp3         2240 non-null   int64  \n",
      " 21  AcceptedCmp4         2240 non-null   int64  \n",
      " 22  AcceptedCmp5         2240 non-null   int64  \n",
      " 23  AcceptedCmp1         2240 non-null   int64  \n",
      " 24  AcceptedCmp2         2240 non-null   int64  \n",
      " 25  Response             2240 non-null   int64  \n",
      " 26  Complain             2240 non-null   int64  \n",
      " 27  Country              2240 non-null   object \n",
      "dtypes: float64(1), int64(23), object(4)\n",
      "memory usage: 490.1+ KB\n"
     ]
    }
   ],
   "source": [
    "df.info()"
   ]
  },
  {
   "cell_type": "markdown",
   "id": "51f082b4",
   "metadata": {
    "papermill": {
     "duration": 0.007608,
     "end_time": "2024-06-04T19:00:48.758458",
     "exception": false,
     "start_time": "2024-06-04T19:00:48.750850",
     "status": "completed"
    },
    "tags": []
   },
   "source": [
    "**Converting required data types.**"
   ]
  },
  {
   "cell_type": "code",
   "execution_count": 4,
   "id": "26141697",
   "metadata": {
    "execution": {
     "iopub.execute_input": "2024-06-04T19:00:48.776798Z",
     "iopub.status.busy": "2024-06-04T19:00:48.776389Z",
     "iopub.status.idle": "2024-06-04T19:00:48.801502Z",
     "shell.execute_reply": "2024-06-04T19:00:48.800456Z"
    },
    "papermill": {
     "duration": 0.038051,
     "end_time": "2024-06-04T19:00:48.804451",
     "exception": false,
     "start_time": "2024-06-04T19:00:48.766400",
     "status": "completed"
    },
    "tags": []
   },
   "outputs": [
    {
     "name": "stdout",
     "output_type": "stream",
     "text": [
      "<class 'pandas.core.frame.DataFrame'>\n",
      "RangeIndex: 2240 entries, 0 to 2239\n",
      "Data columns (total 28 columns):\n",
      " #   Column               Non-Null Count  Dtype         \n",
      "---  ------               --------------  -----         \n",
      " 0   ID                   2240 non-null   int64         \n",
      " 1   Year_Birth           2240 non-null   int64         \n",
      " 2   Education            2240 non-null   category      \n",
      " 3   Marital_Status       2240 non-null   category      \n",
      " 4    Income              2216 non-null   float64       \n",
      " 5   Kidhome              2240 non-null   int64         \n",
      " 6   Teenhome             2240 non-null   int64         \n",
      " 7   Dt_Customer          2240 non-null   datetime64[ns]\n",
      " 8   Recency              2240 non-null   int64         \n",
      " 9   MntWines             2240 non-null   int64         \n",
      " 10  MntFruits            2240 non-null   int64         \n",
      " 11  MntMeatProducts      2240 non-null   int64         \n",
      " 12  MntFishProducts      2240 non-null   int64         \n",
      " 13  MntSweetProducts     2240 non-null   int64         \n",
      " 14  MntGoldProds         2240 non-null   int64         \n",
      " 15  NumDealsPurchases    2240 non-null   int64         \n",
      " 16  NumWebPurchases      2240 non-null   int64         \n",
      " 17  NumCatalogPurchases  2240 non-null   int64         \n",
      " 18  NumStorePurchases    2240 non-null   int64         \n",
      " 19  NumWebVisitsMonth    2240 non-null   int64         \n",
      " 20  AcceptedCmp3         2240 non-null   int64         \n",
      " 21  AcceptedCmp4         2240 non-null   int64         \n",
      " 22  AcceptedCmp5         2240 non-null   int64         \n",
      " 23  AcceptedCmp1         2240 non-null   int64         \n",
      " 24  AcceptedCmp2         2240 non-null   int64         \n",
      " 25  Response             2240 non-null   int64         \n",
      " 26  Complain             2240 non-null   int64         \n",
      " 27  Country              2240 non-null   category      \n",
      "dtypes: category(3), datetime64[ns](1), float64(1), int64(23)\n",
      "memory usage: 445.1 KB\n"
     ]
    }
   ],
   "source": [
    "# Convert Dt_Customer to datetime\n",
    "df['Dt_Customer'] = pd.to_datetime(df['Dt_Customer'])\n",
    "# Convert categorical columns to category type\n",
    "categorical_columns = ['Education', 'Marital_Status', 'Country']\n",
    "for col in categorical_columns:\n",
    "    df[col] = df[col].astype('category')\n",
    "# Verify the changes\n",
    "df.info()"
   ]
  },
  {
   "cell_type": "markdown",
   "id": "c6fe1a85",
   "metadata": {
    "papermill": {
     "duration": 0.007633,
     "end_time": "2024-06-04T19:00:48.820265",
     "exception": false,
     "start_time": "2024-06-04T19:00:48.812632",
     "status": "completed"
    },
    "tags": []
   },
   "source": [
    "**Checking for null values**"
   ]
  },
  {
   "cell_type": "code",
   "execution_count": 5,
   "id": "4f6bdffc",
   "metadata": {
    "execution": {
     "iopub.execute_input": "2024-06-04T19:00:48.839303Z",
     "iopub.status.busy": "2024-06-04T19:00:48.837874Z",
     "iopub.status.idle": "2024-06-04T19:00:48.847869Z",
     "shell.execute_reply": "2024-06-04T19:00:48.846733Z"
    },
    "papermill": {
     "duration": 0.021815,
     "end_time": "2024-06-04T19:00:48.850238",
     "exception": false,
     "start_time": "2024-06-04T19:00:48.828423",
     "status": "completed"
    },
    "tags": []
   },
   "outputs": [
    {
     "data": {
      "text/plain": [
       "ID                      0\n",
       "Year_Birth              0\n",
       "Education               0\n",
       "Marital_Status          0\n",
       " Income                24\n",
       "Kidhome                 0\n",
       "Teenhome                0\n",
       "Dt_Customer             0\n",
       "Recency                 0\n",
       "MntWines                0\n",
       "MntFruits               0\n",
       "MntMeatProducts         0\n",
       "MntFishProducts         0\n",
       "MntSweetProducts        0\n",
       "MntGoldProds            0\n",
       "NumDealsPurchases       0\n",
       "NumWebPurchases         0\n",
       "NumCatalogPurchases     0\n",
       "NumStorePurchases       0\n",
       "NumWebVisitsMonth       0\n",
       "AcceptedCmp3            0\n",
       "AcceptedCmp4            0\n",
       "AcceptedCmp5            0\n",
       "AcceptedCmp1            0\n",
       "AcceptedCmp2            0\n",
       "Response                0\n",
       "Complain                0\n",
       "Country                 0\n",
       "dtype: int64"
      ]
     },
     "execution_count": 5,
     "metadata": {},
     "output_type": "execute_result"
    }
   ],
   "source": [
    "df.isnull().sum()"
   ]
  },
  {
   "cell_type": "markdown",
   "id": "9aef16e7",
   "metadata": {
    "papermill": {
     "duration": 0.008381,
     "end_time": "2024-06-04T19:00:48.866853",
     "exception": false,
     "start_time": "2024-06-04T19:00:48.858472",
     "status": "completed"
    },
    "tags": []
   },
   "source": [
    "**Question 1: How many customer(s) Income is above 50000?**"
   ]
  },
  {
   "cell_type": "code",
   "execution_count": 6,
   "id": "1f3c8520",
   "metadata": {
    "execution": {
     "iopub.execute_input": "2024-06-04T19:00:48.885364Z",
     "iopub.status.busy": "2024-06-04T19:00:48.884963Z",
     "iopub.status.idle": "2024-06-04T19:00:49.088358Z",
     "shell.execute_reply": "2024-06-04T19:00:49.087166Z"
    },
    "papermill": {
     "duration": 0.216597,
     "end_time": "2024-06-04T19:00:49.092025",
     "exception": false,
     "start_time": "2024-06-04T19:00:48.875428",
     "status": "completed"
    },
    "tags": []
   },
   "outputs": [
    {
     "data": {
      "image/png": "[encoded data removed]",
      "text/plain": [
       "<Figure size 600x400 with 1 Axes>"
      ]
     },
     "metadata": {},
     "output_type": "display_data"
    },
    {
     "name": "stdout",
     "output_type": "stream",
     "text": [
      "Number of customers with income above $50,000: 1156\n"
     ]
    }
   ],
   "source": [
    "# Count the number of customers with income above 50000\n",
    "high_income_customers = df[df[' Income '] > 50000].shape[0]\n",
    "\n",
    "# Visualization\n",
    "plt.figure(figsize=(6, 4))\n",
    "plt.bar(['High Income Customers'], [high_income_customers], color='green')\n",
    "plt.ylabel('Number of Customers') #labelling the y-label \n",
    "plt.title('Customers with Income Above $50,000') #labelling the title\n",
    "plt.show()\n",
    "\n",
    "print('Number of customers with income above $50,000:', high_income_customers)"
   ]
  },
  {
   "cell_type": "markdown",
   "id": "cb3ac489",
   "metadata": {
    "papermill": {
     "duration": 0.008573,
     "end_time": "2024-06-04T19:00:49.109316",
     "exception": false,
     "start_time": "2024-06-04T19:00:49.100743",
     "status": "completed"
    },
    "tags": []
   },
   "source": [
    "**Based on the above bar plit we can see that there are 1156 customers with an income above $50,000.**"
   ]
  },
  {
   "cell_type": "markdown",
   "id": "0944fb20",
   "metadata": {
    "papermill": {
     "duration": 0.00837,
     "end_time": "2024-06-04T19:00:49.126498",
     "exception": false,
     "start_time": "2024-06-04T19:00:49.118128",
     "status": "completed"
    },
    "tags": []
   },
   "source": [
    "**Question 2: How much money was spent overall on wines and give it's percentage of overall spent money?**"
   ]
  },
  {
   "cell_type": "code",
   "execution_count": 7,
   "id": "185ff8da",
   "metadata": {
    "execution": {
     "iopub.execute_input": "2024-06-04T19:00:49.145451Z",
     "iopub.status.busy": "2024-06-04T19:00:49.145077Z",
     "iopub.status.idle": "2024-06-04T19:00:49.352633Z",
     "shell.execute_reply": "2024-06-04T19:00:49.351504Z"
    },
    "papermill": {
     "duration": 0.219937,
     "end_time": "2024-06-04T19:00:49.355095",
     "exception": false,
     "start_time": "2024-06-04T19:00:49.135158",
     "status": "completed"
    },
    "tags": []
   },
   "outputs": [
    {
     "data": {
      "image/png": "[encoded data removed]",
      "text/plain": [
       "<Figure size 600x400 with 1 Axes>"
      ]
     },
     "metadata": {},
     "output_type": "display_data"
    }
   ],
   "source": [
    "# Calculate the total money spent on wines\n",
    "total_wine_spent = df['MntWines'].sum()\n",
    "# Calculate the total money spent overall\n",
    "total_spent_overall = df[['MntWines', 'MntFruits', 'MntMeatProducts', 'MntFishProducts',\n",
    "                          'MntSweetProducts', 'MntGoldProds']].sum().sum()\n",
    "# Calculate the percentage of money spent on wines\n",
    "wine_percentage = (total_wine_spent / total_spent_overall) * 100\n",
    "# Plotting the total wine spending\n",
    "plt.figure(figsize=(6, 4))\n",
    "plt.bar(['Wines'], [total_wine_spent], color='purple')\n",
    "plt.ylabel('Total Money Spent')#labelling the y-label \n",
    "plt.title('Total Spending on Wines') #labelling the title\n",
    "plt.ylim(0, total_wine_spent + 500)  # Adjust y-axis to make the bar more visible\n",
    "plt.show()"
   ]
  },
  {
   "cell_type": "markdown",
   "id": "ee95b0d8",
   "metadata": {
    "papermill": {
     "duration": 0.008626,
     "end_time": "2024-06-04T19:00:49.372777",
     "exception": false,
     "start_time": "2024-06-04T19:00:49.364151",
     "status": "completed"
    },
    "tags": []
   },
   "source": [
    "**Based on the above bar plot we can see that total money spent on wines is $6,80,816**"
   ]
  },
  {
   "cell_type": "code",
   "execution_count": 8,
   "id": "1d5955c3",
   "metadata": {
    "execution": {
     "iopub.execute_input": "2024-06-04T19:00:49.393074Z",
     "iopub.status.busy": "2024-06-04T19:00:49.391996Z",
     "iopub.status.idle": "2024-06-04T19:00:49.562475Z",
     "shell.execute_reply": "2024-06-04T19:00:49.561191Z"
    },
    "papermill": {
     "duration": 0.184271,
     "end_time": "2024-06-04T19:00:49.565953",
     "exception": false,
     "start_time": "2024-06-04T19:00:49.381682",
     "status": "completed"
    },
    "tags": []
   },
   "outputs": [
    {
     "data": {
      "image/png": "[encoded data removed]",
      "text/plain": [
       "<Figure size 640x480 with 1 Axes>"
      ]
     },
     "metadata": {},
     "output_type": "display_data"
    }
   ],
   "source": [
    "# Data for the pie chart\n",
    "labels = ['Wines', 'Other Products']\n",
    "sizes = [total_wine_spent, total_spent_overall - total_wine_spent]\n",
    "colors = ['#ff9999','#66b3ff']\n",
    "explode = (0.1, 0)  # explode the 'Wines' slice\n",
    "# Plotting the pie chart\n",
    "fig1, ax1 = plt.subplots()\n",
    "ax1.pie(sizes, explode=explode, labels=labels, colors=colors, \n",
    "        autopct='%1.1f%%', shadow=True, startangle=90)#Creating a pie chart\n",
    "ax1.axis('equal')  # Equal aspect ratio ensures that pie is drawn as a circle.\n",
    "plt.title('Percentage of Money Spent on Wines vs Other Products') #labelling the title\n",
    "plt.show()"
   ]
  },
  {
   "cell_type": "markdown",
   "id": "475584c5",
   "metadata": {
    "papermill": {
     "duration": 0.015664,
     "end_time": "2024-06-04T19:00:49.598018",
     "exception": false,
     "start_time": "2024-06-04T19:00:49.582354",
     "status": "completed"
    },
    "tags": []
   },
   "source": [
    "**Based on the above pie chart we can see that the Percentage of total spending on wines is 50.2%**"
   ]
  },
  {
   "cell_type": "markdown",
   "id": "5f733b6d",
   "metadata": {
    "papermill": {
     "duration": 0.01075,
     "end_time": "2024-06-04T19:00:49.625157",
     "exception": false,
     "start_time": "2024-06-04T19:00:49.614407",
     "status": "completed"
    },
    "tags": []
   },
   "source": [
    "**Question 3: In which year is the maximum amount spent by customers?**"
   ]
  },
  {
   "cell_type": "code",
   "execution_count": 9,
   "id": "1e334cf6",
   "metadata": {
    "execution": {
     "iopub.execute_input": "2024-06-04T19:00:49.647015Z",
     "iopub.status.busy": "2024-06-04T19:00:49.646057Z",
     "iopub.status.idle": "2024-06-04T19:00:49.907378Z",
     "shell.execute_reply": "2024-06-04T19:00:49.906067Z"
    },
    "papermill": {
     "duration": 0.275369,
     "end_time": "2024-06-04T19:00:49.910026",
     "exception": false,
     "start_time": "2024-06-04T19:00:49.634657",
     "status": "completed"
    },
    "tags": []
   },
   "outputs": [
    {
     "data": {
      "image/png": "[encoded data removed]",
      "text/plain": [
       "<Figure size 1000x600 with 1 Axes>"
      ]
     },
     "metadata": {},
     "output_type": "display_data"
    }
   ],
   "source": [
    "# Extract year from the 'Dt_Customer' column\n",
    "df['Year'] = pd.to_datetime(df['Dt_Customer']).dt.year\n",
    "# Group by year and calculate total spending for each year\n",
    "total_spending_by_year = df.groupby('Year')[['MntWines', 'MntFruits', 'MntMeatProducts',\n",
    "                                             'MntFishProducts', 'MntSweetProducts', \n",
    "                                             'MntGoldProds']].sum()\n",
    "# Calculate total spending for each year\n",
    "total_spending_by_year['Total'] = total_spending_by_year.sum(axis=1)\n",
    "# Find the year with the maximum total spending\n",
    "max_spending_year = total_spending_by_year['Total'].idxmax()\n",
    "# Plotting the total spending by year\n",
    "plt.figure(figsize=(10, 6))\n",
    "plt.bar(total_spending_by_year.index, total_spending_by_year['Total'], color='lightblue') #Creating the bar plot\n",
    "plt.bar(max_spending_year, total_spending_by_year.loc[max_spending_year, 'Total'], color='red')\n",
    "plt.xlabel('Year') #labelling the x-label \n",
    "plt.ylabel('Total Spending') #labelling the y-label \n",
    "plt.title('Total Spending by Year with Highlight on Max Spending Year') #labelling the title\n",
    "plt.xticks(total_spending_by_year.index, total_spending_by_year.index)\n",
    "# Display the plot\n",
    "plt.show()"
   ]
  },
  {
   "cell_type": "markdown",
   "id": "c7f5464a",
   "metadata": {
    "papermill": {
     "duration": 0.010544,
     "end_time": "2024-06-04T19:00:49.931008",
     "exception": false,
     "start_time": "2024-06-04T19:00:49.920464",
     "status": "completed"
    },
    "tags": []
   },
   "source": [
    "**Based on the above bar plot we highlighted the plot with red, where 2013 is the year with the maximum total spending by customers.**"
   ]
  },
  {
   "cell_type": "markdown",
   "id": "123e6be2",
   "metadata": {
    "papermill": {
     "duration": 0.009805,
     "end_time": "2024-06-04T19:00:49.950914",
     "exception": false,
     "start_time": "2024-06-04T19:00:49.941109",
     "status": "completed"
    },
    "tags": []
   },
   "source": [
    "**Question 4: Show the maximum revenue of income in which month and give the top 10 customer list of that month.**"
   ]
  },
  {
   "cell_type": "code",
   "execution_count": 10,
   "id": "e34350ba",
   "metadata": {
    "execution": {
     "iopub.execute_input": "2024-06-04T19:00:49.973123Z",
     "iopub.status.busy": "2024-06-04T19:00:49.972726Z",
     "iopub.status.idle": "2024-06-04T19:00:50.281270Z",
     "shell.execute_reply": "2024-06-04T19:00:50.280203Z"
    },
    "papermill": {
     "duration": 0.322602,
     "end_time": "2024-06-04T19:00:50.283724",
     "exception": false,
     "start_time": "2024-06-04T19:00:49.961122",
     "status": "completed"
    },
    "tags": []
   },
   "outputs": [
    {
     "data": {
      "image/png": "[encoded data removed]",
      "text/plain": [
       "<Figure size 1000x600 with 1 Axes>"
      ]
     },
     "metadata": {},
     "output_type": "display_data"
    }
   ],
   "source": [
    "# Extract month from the 'Dt_Customer' column\n",
    "df['Month'] = df['Dt_Customer'].dt.month\n",
    "\n",
    "# Group by month and calculate total income for each month\n",
    "monthly_income = df.groupby('Month')[' Income '].sum()\n",
    "\n",
    "# Find the month with the maximum revenue\n",
    "max_income_month = monthly_income.idxmax()\n",
    "\n",
    "# Plotting the monthly income\n",
    "plt.figure(figsize=(10, 6))\n",
    "plt.bar(monthly_income.index, monthly_income.values, color='lightblue') #Creating a bar plot\n",
    "plt.bar(max_income_month, monthly_income[max_income_month], color='red') #Highlighing the month\n",
    "plt.xlabel('Month') #labelling the x-label \n",
    "plt.ylabel('Total Income') #labelling the y-label\n",
    "plt.title('Monthly Income with Highlight on Max Income Month') #labelling the title\n",
    "plt.xticks(monthly_income.index, ['Jan', 'Feb', 'Mar', 'Apr', 'May', 'Jun', 'Jul', 'Aug', 'Sep', 'Oct', 'Nov', 'Dec'])\n",
    "plt.show() # Display the plot"
   ]
  },
  {
   "cell_type": "markdown",
   "id": "7e125724",
   "metadata": {
    "papermill": {
     "duration": 0.01062,
     "end_time": "2024-06-04T19:00:50.305297",
     "exception": false,
     "start_time": "2024-06-04T19:00:50.294677",
     "status": "completed"
    },
    "tags": []
   },
   "source": [
    "**Based on the above bar plot the may month is the maximum revenue and we have highlighted with red in the plot.**"
   ]
  },
  {
   "cell_type": "markdown",
   "id": "009a95bd",
   "metadata": {
    "papermill": {
     "duration": 0.010498,
     "end_time": "2024-06-04T19:00:50.326913",
     "exception": false,
     "start_time": "2024-06-04T19:00:50.316415",
     "status": "completed"
    },
    "tags": []
   },
   "source": [
    "**Top 10 customers in the month of may**"
   ]
  },
  {
   "cell_type": "code",
   "execution_count": 11,
   "id": "6cd6fd78",
   "metadata": {
    "execution": {
     "iopub.execute_input": "2024-06-04T19:00:50.350737Z",
     "iopub.status.busy": "2024-06-04T19:00:50.350299Z",
     "iopub.status.idle": "2024-06-04T19:00:50.379968Z",
     "shell.execute_reply": "2024-06-04T19:00:50.378935Z"
    },
    "papermill": {
     "duration": 0.04437,
     "end_time": "2024-06-04T19:00:50.382205",
     "exception": false,
     "start_time": "2024-06-04T19:00:50.337835",
     "status": "completed"
    },
    "tags": []
   },
   "outputs": [
    {
     "data": {
      "text/html": [
       "<div>\n",
       "<style scoped>\n",
       "    .dataframe tbody tr th:only-of-type {\n",
       "        vertical-align: middle;\n",
       "    }\n",
       "\n",
       "    .dataframe tbody tr th {\n",
       "        vertical-align: top;\n",
       "    }\n",
       "\n",
       "    .dataframe thead th {\n",
       "        text-align: right;\n",
       "    }\n",
       "</style>\n",
       "<table border=\"1\" class=\"dataframe\">\n",
       "  <thead>\n",
       "    <tr style=\"text-align: right;\">\n",
       "      <th></th>\n",
       "      <th>ID</th>\n",
       "      <th>Year_Birth</th>\n",
       "      <th>Education</th>\n",
       "      <th>Marital_Status</th>\n",
       "      <th>Income</th>\n",
       "      <th>Kidhome</th>\n",
       "      <th>Teenhome</th>\n",
       "      <th>Dt_Customer</th>\n",
       "      <th>Recency</th>\n",
       "      <th>MntWines</th>\n",
       "      <th>...</th>\n",
       "      <th>AcceptedCmp3</th>\n",
       "      <th>AcceptedCmp4</th>\n",
       "      <th>AcceptedCmp5</th>\n",
       "      <th>AcceptedCmp1</th>\n",
       "      <th>AcceptedCmp2</th>\n",
       "      <th>Response</th>\n",
       "      <th>Complain</th>\n",
       "      <th>Country</th>\n",
       "      <th>Year</th>\n",
       "      <th>Month</th>\n",
       "    </tr>\n",
       "  </thead>\n",
       "  <tbody>\n",
       "    <tr>\n",
       "      <th>210</th>\n",
       "      <td>4619</td>\n",
       "      <td>1945</td>\n",
       "      <td>PhD</td>\n",
       "      <td>Single</td>\n",
       "      <td>113734.0</td>\n",
       "      <td>0</td>\n",
       "      <td>0</td>\n",
       "      <td>2014-05-28</td>\n",
       "      <td>9</td>\n",
       "      <td>6</td>\n",
       "      <td>...</td>\n",
       "      <td>0</td>\n",
       "      <td>0</td>\n",
       "      <td>0</td>\n",
       "      <td>0</td>\n",
       "      <td>0</td>\n",
       "      <td>0</td>\n",
       "      <td>0</td>\n",
       "      <td>Spain</td>\n",
       "      <td>2014</td>\n",
       "      <td>5</td>\n",
       "    </tr>\n",
       "    <tr>\n",
       "      <th>109</th>\n",
       "      <td>6815</td>\n",
       "      <td>1980</td>\n",
       "      <td>2n Cycle</td>\n",
       "      <td>Married</td>\n",
       "      <td>96547.0</td>\n",
       "      <td>0</td>\n",
       "      <td>0</td>\n",
       "      <td>2014-05-23</td>\n",
       "      <td>4</td>\n",
       "      <td>448</td>\n",
       "      <td>...</td>\n",
       "      <td>1</td>\n",
       "      <td>0</td>\n",
       "      <td>1</td>\n",
       "      <td>1</td>\n",
       "      <td>0</td>\n",
       "      <td>1</td>\n",
       "      <td>0</td>\n",
       "      <td>Spain</td>\n",
       "      <td>2014</td>\n",
       "      <td>5</td>\n",
       "    </tr>\n",
       "    <tr>\n",
       "      <th>2192</th>\n",
       "      <td>9499</td>\n",
       "      <td>1954</td>\n",
       "      <td>Graduation</td>\n",
       "      <td>Married</td>\n",
       "      <td>93404.0</td>\n",
       "      <td>1</td>\n",
       "      <td>2</td>\n",
       "      <td>2013-05-07</td>\n",
       "      <td>97</td>\n",
       "      <td>1279</td>\n",
       "      <td>...</td>\n",
       "      <td>0</td>\n",
       "      <td>1</td>\n",
       "      <td>1</td>\n",
       "      <td>0</td>\n",
       "      <td>0</td>\n",
       "      <td>0</td>\n",
       "      <td>0</td>\n",
       "      <td>Canada</td>\n",
       "      <td>2013</td>\n",
       "      <td>5</td>\n",
       "    </tr>\n",
       "    <tr>\n",
       "      <th>1607</th>\n",
       "      <td>1172</td>\n",
       "      <td>1983</td>\n",
       "      <td>PhD</td>\n",
       "      <td>Married</td>\n",
       "      <td>92491.0</td>\n",
       "      <td>0</td>\n",
       "      <td>0</td>\n",
       "      <td>2013-05-01</td>\n",
       "      <td>71</td>\n",
       "      <td>979</td>\n",
       "      <td>...</td>\n",
       "      <td>0</td>\n",
       "      <td>1</td>\n",
       "      <td>1</td>\n",
       "      <td>1</td>\n",
       "      <td>0</td>\n",
       "      <td>1</td>\n",
       "      <td>0</td>\n",
       "      <td>Spain</td>\n",
       "      <td>2013</td>\n",
       "      <td>5</td>\n",
       "    </tr>\n",
       "    <tr>\n",
       "      <th>2212</th>\n",
       "      <td>3979</td>\n",
       "      <td>1983</td>\n",
       "      <td>PhD</td>\n",
       "      <td>Divorced</td>\n",
       "      <td>90687.0</td>\n",
       "      <td>0</td>\n",
       "      <td>0</td>\n",
       "      <td>2013-05-22</td>\n",
       "      <td>98</td>\n",
       "      <td>982</td>\n",
       "      <td>...</td>\n",
       "      <td>0</td>\n",
       "      <td>0</td>\n",
       "      <td>1</td>\n",
       "      <td>0</td>\n",
       "      <td>0</td>\n",
       "      <td>1</td>\n",
       "      <td>0</td>\n",
       "      <td>Spain</td>\n",
       "      <td>2013</td>\n",
       "      <td>5</td>\n",
       "    </tr>\n",
       "    <tr>\n",
       "      <th>1959</th>\n",
       "      <td>3010</td>\n",
       "      <td>1989</td>\n",
       "      <td>Master</td>\n",
       "      <td>Together</td>\n",
       "      <td>88420.0</td>\n",
       "      <td>0</td>\n",
       "      <td>0</td>\n",
       "      <td>2014-05-02</td>\n",
       "      <td>87</td>\n",
       "      <td>957</td>\n",
       "      <td>...</td>\n",
       "      <td>1</td>\n",
       "      <td>0</td>\n",
       "      <td>1</td>\n",
       "      <td>1</td>\n",
       "      <td>0</td>\n",
       "      <td>0</td>\n",
       "      <td>0</td>\n",
       "      <td>Spain</td>\n",
       "      <td>2014</td>\n",
       "      <td>5</td>\n",
       "    </tr>\n",
       "    <tr>\n",
       "      <th>1386</th>\n",
       "      <td>5536</td>\n",
       "      <td>1959</td>\n",
       "      <td>Graduation</td>\n",
       "      <td>Together</td>\n",
       "      <td>87771.0</td>\n",
       "      <td>0</td>\n",
       "      <td>1</td>\n",
       "      <td>2013-05-22</td>\n",
       "      <td>61</td>\n",
       "      <td>1492</td>\n",
       "      <td>...</td>\n",
       "      <td>0</td>\n",
       "      <td>1</td>\n",
       "      <td>1</td>\n",
       "      <td>1</td>\n",
       "      <td>1</td>\n",
       "      <td>1</td>\n",
       "      <td>0</td>\n",
       "      <td>Canada</td>\n",
       "      <td>2013</td>\n",
       "      <td>5</td>\n",
       "    </tr>\n",
       "    <tr>\n",
       "      <th>1385</th>\n",
       "      <td>3174</td>\n",
       "      <td>1959</td>\n",
       "      <td>Graduation</td>\n",
       "      <td>Together</td>\n",
       "      <td>87771.0</td>\n",
       "      <td>0</td>\n",
       "      <td>1</td>\n",
       "      <td>2013-05-22</td>\n",
       "      <td>61</td>\n",
       "      <td>1492</td>\n",
       "      <td>...</td>\n",
       "      <td>0</td>\n",
       "      <td>1</td>\n",
       "      <td>1</td>\n",
       "      <td>1</td>\n",
       "      <td>1</td>\n",
       "      <td>1</td>\n",
       "      <td>0</td>\n",
       "      <td>Spain</td>\n",
       "      <td>2013</td>\n",
       "      <td>5</td>\n",
       "    </tr>\n",
       "    <tr>\n",
       "      <th>803</th>\n",
       "      <td>8908</td>\n",
       "      <td>1959</td>\n",
       "      <td>Graduation</td>\n",
       "      <td>Married</td>\n",
       "      <td>87195.0</td>\n",
       "      <td>0</td>\n",
       "      <td>0</td>\n",
       "      <td>2014-05-08</td>\n",
       "      <td>35</td>\n",
       "      <td>217</td>\n",
       "      <td>...</td>\n",
       "      <td>0</td>\n",
       "      <td>0</td>\n",
       "      <td>0</td>\n",
       "      <td>0</td>\n",
       "      <td>0</td>\n",
       "      <td>1</td>\n",
       "      <td>0</td>\n",
       "      <td>Canada</td>\n",
       "      <td>2014</td>\n",
       "      <td>5</td>\n",
       "    </tr>\n",
       "    <tr>\n",
       "      <th>629</th>\n",
       "      <td>4207</td>\n",
       "      <td>1981</td>\n",
       "      <td>PhD</td>\n",
       "      <td>Married</td>\n",
       "      <td>87171.0</td>\n",
       "      <td>0</td>\n",
       "      <td>0</td>\n",
       "      <td>2013-05-01</td>\n",
       "      <td>27</td>\n",
       "      <td>1001</td>\n",
       "      <td>...</td>\n",
       "      <td>1</td>\n",
       "      <td>0</td>\n",
       "      <td>1</td>\n",
       "      <td>0</td>\n",
       "      <td>0</td>\n",
       "      <td>0</td>\n",
       "      <td>0</td>\n",
       "      <td>Spain</td>\n",
       "      <td>2013</td>\n",
       "      <td>5</td>\n",
       "    </tr>\n",
       "  </tbody>\n",
       "</table>\n",
       "<p>10 rows × 30 columns</p>\n",
       "</div>"
      ],
      "text/plain": [
       "        ID  Year_Birth   Education Marital_Status   Income   Kidhome  \\\n",
       "210   4619        1945         PhD         Single  113734.0        0   \n",
       "109   6815        1980    2n Cycle        Married   96547.0        0   \n",
       "2192  9499        1954  Graduation        Married   93404.0        1   \n",
       "1607  1172        1983         PhD        Married   92491.0        0   \n",
       "2212  3979        1983         PhD       Divorced   90687.0        0   \n",
       "1959  3010        1989      Master       Together   88420.0        0   \n",
       "1386  5536        1959  Graduation       Together   87771.0        0   \n",
       "1385  3174        1959  Graduation       Together   87771.0        0   \n",
       "803   8908        1959  Graduation        Married   87195.0        0   \n",
       "629   4207        1981         PhD        Married   87171.0        0   \n",
       "\n",
       "      Teenhome Dt_Customer  Recency  MntWines  ...  AcceptedCmp3  \\\n",
       "210          0  2014-05-28        9         6  ...             0   \n",
       "109          0  2014-05-23        4       448  ...             1   \n",
       "2192         2  2013-05-07       97      1279  ...             0   \n",
       "1607         0  2013-05-01       71       979  ...             0   \n",
       "2212         0  2013-05-22       98       982  ...             0   \n",
       "1959         0  2014-05-02       87       957  ...             1   \n",
       "1386         1  2013-05-22       61      1492  ...             0   \n",
       "1385         1  2013-05-22       61      1492  ...             0   \n",
       "803          0  2014-05-08       35       217  ...             0   \n",
       "629          0  2013-05-01       27      1001  ...             1   \n",
       "\n",
       "      AcceptedCmp4  AcceptedCmp5  AcceptedCmp1  AcceptedCmp2  Response  \\\n",
       "210              0             0             0             0         0   \n",
       "109              0             1             1             0         1   \n",
       "2192             1             1             0             0         0   \n",
       "1607             1             1             1             0         1   \n",
       "2212             0             1             0             0         1   \n",
       "1959             0             1             1             0         0   \n",
       "1386             1             1             1             1         1   \n",
       "1385             1             1             1             1         1   \n",
       "803              0             0             0             0         1   \n",
       "629              0             1             0             0         0   \n",
       "\n",
       "      Complain  Country  Year  Month  \n",
       "210          0    Spain  2014      5  \n",
       "109          0    Spain  2014      5  \n",
       "2192         0   Canada  2013      5  \n",
       "1607         0    Spain  2013      5  \n",
       "2212         0    Spain  2013      5  \n",
       "1959         0    Spain  2014      5  \n",
       "1386         0   Canada  2013      5  \n",
       "1385         0    Spain  2013      5  \n",
       "803          0   Canada  2014      5  \n",
       "629          0    Spain  2013      5  \n",
       "\n",
       "[10 rows x 30 columns]"
      ]
     },
     "execution_count": 11,
     "metadata": {},
     "output_type": "execute_result"
    }
   ],
   "source": [
    "# Retrieve the data for the month with the maximum revenue\n",
    "max_income_month_data = df[df['Month'] == max_income_month]\n",
    "\n",
    "# Sort the data for that month by income to find the top 10 customers\n",
    "max_income_month_data_sorted = max_income_month_data.sort_values(by=' Income ', ascending=False)\n",
    "\n",
    "# Retrieve the top 10 customers of that month\n",
    "top_10_customers = max_income_month_data_sorted.head(10)\n",
    "\n",
    "# Display the top 10 customers\n",
    "top_10_customers"
   ]
  },
  {
   "cell_type": "markdown",
   "id": "4c2dc8a9",
   "metadata": {
    "papermill": {
     "duration": 0.010744,
     "end_time": "2024-06-04T19:00:50.403951",
     "exception": false,
     "start_time": "2024-06-04T19:00:50.393207",
     "status": "completed"
    },
    "tags": []
   },
   "source": [
    "**These are the 10 customer with the maximum income in the may month.**"
   ]
  },
  {
   "cell_type": "markdown",
   "id": "5832ea25",
   "metadata": {
    "papermill": {
     "duration": 0.010762,
     "end_time": "2024-06-04T19:00:50.425854",
     "exception": false,
     "start_time": "2024-06-04T19:00:50.415092",
     "status": "completed"
    },
    "tags": []
   },
   "source": [
    "**Question 5: How much is the total amount spent overall on wine, fruits, meat, fish, sweets, and gold also given percentage-wise?**"
   ]
  },
  {
   "cell_type": "code",
   "execution_count": 12,
   "id": "e879c2fd",
   "metadata": {
    "execution": {
     "iopub.execute_input": "2024-06-04T19:00:50.450245Z",
     "iopub.status.busy": "2024-06-04T19:00:50.449526Z",
     "iopub.status.idle": "2024-06-04T19:00:50.723613Z",
     "shell.execute_reply": "2024-06-04T19:00:50.722327Z"
    },
    "papermill": {
     "duration": 0.289421,
     "end_time": "2024-06-04T19:00:50.726565",
     "exception": false,
     "start_time": "2024-06-04T19:00:50.437144",
     "status": "completed"
    },
    "tags": []
   },
   "outputs": [
    {
     "data": {
      "image/png": "[encoded data removed]",
      "text/plain": [
       "<Figure size 1000x600 with 1 Axes>"
      ]
     },
     "metadata": {},
     "output_type": "display_data"
    }
   ],
   "source": [
    "# Calculate total spending for each category\n",
    "total_wine_spent = df['MntWines'].sum()\n",
    "total_fruits_spent = df['MntFruits'].sum()\n",
    "total_meat_spent = df['MntMeatProducts'].sum()\n",
    "total_fish_spent = df['MntFishProducts'].sum()\n",
    "total_sweets_spent = df['MntSweetProducts'].sum()\n",
    "total_gold_spent = df['MntGoldProds'].sum()\n",
    "totals = [total_wine_spent,total_fruits_spent,total_meat_spent,total_fish_spent,total_sweets_spent,total_gold_spent]\n",
    "\n",
    "# Create a list of category names\n",
    "categories = ['Wine', 'Fruits', 'Meat Products', 'Fish Products', 'Sweet Products', 'Gold Products']\n",
    "\n",
    "# Creating the bar chart fot all the totals\n",
    "plt.figure(figsize=(10, 6))\n",
    "plt.bar(categories, totals, color='skyblue') #Creating a bar plot\n",
    "plt.title('Total Spending per Category') #labelling the title\n",
    "plt.xlabel('Category') #labelling the x-label\n",
    "plt.ylabel('Total Spending') #labelling the y-label\n",
    "plt.show()\n"
   ]
  },
  {
   "cell_type": "markdown",
   "id": "6ecae31b",
   "metadata": {
    "papermill": {
     "duration": 0.011559,
     "end_time": "2024-06-04T19:00:50.749782",
     "exception": false,
     "start_time": "2024-06-04T19:00:50.738223",
     "status": "completed"
    },
    "tags": []
   },
   "source": [
    "**Based on the above bar plot we can see the total spending of each product where wine product is highest total spending followed by meat products, gold products, fish prodcuts, sweets product, fruits products.**"
   ]
  },
  {
   "cell_type": "code",
   "execution_count": 13,
   "id": "e2f38669",
   "metadata": {
    "execution": {
     "iopub.execute_input": "2024-06-04T19:00:50.775158Z",
     "iopub.status.busy": "2024-06-04T19:00:50.774748Z",
     "iopub.status.idle": "2024-06-04T19:00:51.029365Z",
     "shell.execute_reply": "2024-06-04T19:00:51.028066Z"
    },
    "papermill": {
     "duration": 0.271809,
     "end_time": "2024-06-04T19:00:51.033452",
     "exception": false,
     "start_time": "2024-06-04T19:00:50.761643",
     "status": "completed"
    },
    "tags": []
   },
   "outputs": [
    {
     "data": {
      "image/png": "[encoded data removed]",
      "text/plain": [
       "<Figure size 800x600 with 1 Axes>"
      ]
     },
     "metadata": {},
     "output_type": "display_data"
    }
   ],
   "source": [
    "# Calculate total spending overall\n",
    "total_spent_overall = total_wine_spent + total_fruits_spent + total_meat_spent + total_fish_spent + total_sweets_spent + total_gold_spent\n",
    "\n",
    "# Calculate percentage of spending for each category\n",
    "wine_percentage = (total_wine_spent / total_spent_overall) * 100\n",
    "fruits_percentage = (total_fruits_spent / total_spent_overall) * 100\n",
    "meat_percentage = (total_meat_spent / total_spent_overall) * 100\n",
    "fish_percentage = (total_fish_spent / total_spent_overall) * 100\n",
    "sweets_percentage = (total_sweets_spent / total_spent_overall) * 100\n",
    "gold_percentage = (total_gold_spent / total_spent_overall) * 100\n",
    "\n",
    "# Create a list of category names\n",
    "categories = ['Wine', 'Fruits', 'Meat Products', 'Fish Products', 'Sweet Products', 'Gold Products']\n",
    "\n",
    "# Create a list of percentage  values\n",
    "percentages = [wine_percentage, fruits_percentage, meat_percentage, fish_percentage, sweets_percentage, gold_percentage]\n",
    "\n",
    "fig, ax = plt.subplots(figsize=(8, 6))\n",
    "ax.pie(percentages, labels=categories, autopct='%1.1f%%') #Creating pie chart\n",
    "ax.set_title('Percentage of Total Spending by Category', fontsize=16) #labelling the title\n",
    "plt.tight_layout()\n",
    "plt.show()\n"
   ]
  },
  {
   "cell_type": "markdown",
   "id": "2b6fed96",
   "metadata": {
    "papermill": {
     "duration": 0.012183,
     "end_time": "2024-06-04T19:00:51.067434",
     "exception": false,
     "start_time": "2024-06-04T19:00:51.055251",
     "status": "completed"
    },
    "tags": []
   },
   "source": [
    "**Based on the above pie chart we can see the total percentage of each product where wine product has highest percentage followed by meat products, gold products, fish prodcuts, sweets product, fruits products.**"
   ]
  },
  {
   "cell_type": "markdown",
   "id": "1565b4a0",
   "metadata": {
    "papermill": {
     "duration": 0.012427,
     "end_time": "2024-06-04T19:00:51.092216",
     "exception": false,
     "start_time": "2024-06-04T19:00:51.079789",
     "status": "completed"
    },
    "tags": []
   },
   "source": [
    "**Question 6: Total amount spent every weekday in 2 years and it's in percentage**"
   ]
  },
  {
   "cell_type": "code",
   "execution_count": 14,
   "id": "04f4915f",
   "metadata": {
    "execution": {
     "iopub.execute_input": "2024-06-04T19:00:51.119641Z",
     "iopub.status.busy": "2024-06-04T19:00:51.119237Z",
     "iopub.status.idle": "2024-06-04T19:00:51.483796Z",
     "shell.execute_reply": "2024-06-04T19:00:51.482485Z"
    },
    "papermill": {
     "duration": 0.381864,
     "end_time": "2024-06-04T19:00:51.486476",
     "exception": false,
     "start_time": "2024-06-04T19:00:51.104612",
     "status": "completed"
    },
    "tags": []
   },
   "outputs": [
    {
     "name": "stderr",
     "output_type": "stream",
     "text": [
      "/tmp/ipykernel_18/2397379764.py:26: UserWarning: FixedFormatter should only be used together with FixedLocator\n",
      "  ax.set_xticklabels(day_names, rotation=45, ha='right')\n"
     ]
    },
    {
     "data": {
      "image/png": "[encoded data removed]",
      "text/plain": [
       "<Figure size 1000x600 with 1 Axes>"
      ]
     },
     "metadata": {},
     "output_type": "display_data"
    }
   ],
   "source": [
    "\n",
    "# Extract weekday from the 'Dt_Customer' column\n",
    "df['Weekday'] = df['Dt_Customer'].dt.weekday\n",
    "\n",
    "# Group by weekday and calculate total spending for each weekday\n",
    "total_spent_weekday = df.groupby('Weekday')[['MntWines', 'MntFruits', 'MntMeatProducts',\n",
    "                                             'MntFishProducts', 'MntSweetProducts', \n",
    "                                             'MntGoldProds']].sum()\n",
    "\n",
    "# Calculate total spending overall\n",
    "total_spent_overall = total_spent_weekday.sum().sum()\n",
    "\n",
    "# Calculate percentage of spending for each weekday\n",
    "total_spent_weekday_percentage = (total_spent_weekday / total_spent_overall) * 100\n",
    "\n",
    "# Convert weekday integers to weekday names\n",
    "day_names = np.array(['Monday', 'Tuesday', 'Wednesday', 'Thursday', 'Friday', 'Saturday', 'Sunday'])\n",
    "\n",
    "# Sum the percentage across all columns for each weekday\n",
    "total_spent_weekday_percentage_sum = total_spent_weekday_percentage.sum(axis=1)\n",
    "\n",
    "# Create a figure and axis object\n",
    "fig, ax = plt.subplots(figsize=(10, 6))\n",
    "ax.bar(day_names, total_spent_weekday_percentage_sum.values)# Create a bar plot\n",
    "ax.set_xlabel('Weekday', fontsize=14)   #labelling the x-label\n",
    "ax.set_ylabel('Percentage of Total Spending', fontsize=14) #labelling the y-label\n",
    "ax.set_xticklabels(day_names, rotation=45, ha='right')\n",
    "ax.set_title('Percentage of Total Spending by Weekday', fontsize=16) #labelling the title\n",
    "plt.tight_layout()\n",
    "plt.show()\n"
   ]
  },
  {
   "cell_type": "markdown",
   "id": "fc60a4c5",
   "metadata": {
    "papermill": {
     "duration": 0.013187,
     "end_time": "2024-06-04T19:00:51.514933",
     "exception": false,
     "start_time": "2024-06-04T19:00:51.501746",
     "status": "completed"
    },
    "tags": []
   },
   "source": [
    "**Based on the above bar plot we can see the total percentage of amount spent by weekdays where monday is with highest percentage followed by friday, Wednesday, saturday, sunday, thursday, tuesday.**"
   ]
  },
  {
   "cell_type": "markdown",
   "id": "025c0d57",
   "metadata": {
    "papermill": {
     "duration": 0.013547,
     "end_time": "2024-06-04T19:00:51.542589",
     "exception": false,
     "start_time": "2024-06-04T19:00:51.529042",
     "status": "completed"
    },
    "tags": []
   },
   "source": [
    "**Summary**"
   ]
  },
  {
   "cell_type": "markdown",
   "id": "d2a02e94",
   "metadata": {
    "papermill": {
     "duration": 0.013109,
     "end_time": "2024-06-04T19:00:51.569657",
     "exception": false,
     "start_time": "2024-06-04T19:00:51.556548",
     "status": "completed"
    },
    "tags": []
   },
   "source": [
    "**The analysis reveals that 1156 customers have an income above 50,000, with wine accounting for $6,80,816, 50.2% of overall spending, 2013 being the year of maximum spending, May yielding the highest income, wine, meat, and gold being the top spending categories, and Monday leading in percentage of weekly spending.**"
   ]
  },
  {
   "cell_type": "code",
   "execution_count": null,
   "id": "6f68e47e",
   "metadata": {
    "papermill": {
     "duration": 0.013057,
     "end_time": "2024-06-04T19:00:51.596144",
     "exception": false,
     "start_time": "2024-06-04T19:00:51.583087",
     "status": "completed"
    },
    "tags": []
   },
   "outputs": [],
   "source": []
  }
 ],
 "metadata": {
  "kaggle": {
   "accelerator": "none",
   "dataSources": [
    {
     "datasetId": 2847924,
     "sourceId": 4910562,
     "sourceType": "datasetVersion"
    }
   ],
   "dockerImageVersionId": 30715,
   "isGpuEnabled": false,
   "isInternetEnabled": true,
   "language": "python",
   "sourceType": "notebook"
  },
  "kernelspec": {
   "display_name": "Python 3",
   "language": "python",
   "name": "python3"
  },
  "language_info": {
   "codemirror_mode": {
    "name": "ipython",
    "version": 3
   },
   "file_extension": ".py",
   "mimetype": "text/x-python",
   "name": "python",
   "nbconvert_exporter": "python",
   "pygments_lexer": "ipython3",
   "version": "3.10.13"
  },
  "papermill": {
   "default_parameters": {},
   "duration": 7.30955,
   "end_time": "2024-06-04T19:00:52.130751",
   "environment_variables": {},
   "exception": null,
   "input_path": "__notebook__.ipynb",
   "output_path": "__notebook__.ipynb",
   "parameters": {},
   "start_time": "2024-06-04T19:00:44.821201",
   "version": "2.5.0"
  }
 },
 "nbformat": 4,
 "nbformat_minor": 5
}
